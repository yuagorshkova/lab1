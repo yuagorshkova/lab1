{
 "cells": [
  {
   "cell_type": "markdown",
   "metadata": {},
   "source": [
    "Вариант 14, но с изменениями"
   ]
  },
  {
   "cell_type": "markdown",
   "metadata": {},
   "source": [
    "<h1> Создание суффиксного дерева"
   ]
  },
  {
   "cell_type": "code",
   "execution_count": 1,
   "metadata": {},
   "outputs": [],
   "source": [
    "def add_line(line, node):\n",
    "    if len(line) == 0:\n",
    "        return\n",
    "    if node.get(line[0], None) == None:\n",
    "        node[line[0]] = {}\n",
    "    add_line(line[1:], node[line[0]])"
   ]
  },
  {
   "cell_type": "code",
   "execution_count": 2,
   "metadata": {},
   "outputs": [],
   "source": [
    "def add_suffixes(word, tree):\n",
    "    word1 = word + '$'\n",
    "    for i in range(len(word),-1,-1):\n",
    "        add_line(word1[i:], tree)"
   ]
  },
  {
   "cell_type": "markdown",
   "metadata": {},
   "source": [
    "<h1>Превратить дерево в спсиок"
   ]
  },
  {
   "cell_type": "raw",
   "metadata": {},
   "source": [
    "Нужно:\n",
    "{'$': {},\n",
    " 'м': {'$': {}}}  \n",
    " \n",
    " --->\n",
    " \n",
    " \n",
    " [['$', None], ['m', [['$', None]]]]"
   ]
  },
  {
   "cell_type": "code",
   "execution_count": 3,
   "metadata": {},
   "outputs": [],
   "source": [
    "def dict_to_list(cur_node, cur_list = []):\n",
    "    for key, value in cur_node.items():\n",
    "        if value == {}:\n",
    "            cur_list.append([key, None])\n",
    "        else:\n",
    "            cur_list.append([key, []])\n",
    "            i = cur_list.index([key, []])\n",
    "            dict_to_list(value, cur_list[i][1])\n",
    "    return cur_list"
   ]
  },
  {
   "cell_type": "markdown",
   "metadata": {},
   "source": [
    "<h1>Превратить список в словарь"
   ]
  },
  {
   "cell_type": "raw",
   "metadata": {},
   "source": [
    "Нужно:\n",
    " [['$', None], ['m', [['$', None]]]]\n",
    " \n",
    " --->\n",
    " \n",
    " \n",
    " {'$': {},\n",
    " 'м': {'$': {}}}  "
   ]
  },
  {
   "cell_type": "code",
   "execution_count": 4,
   "metadata": {},
   "outputs": [],
   "source": [
    "def list_to_dict(cur_list, cur_node = {}):\n",
    "    for elem in cur_list:\n",
    "        cur_node[elem[0]] = {}\n",
    "        if elem[1] != None:\n",
    "            list_to_dict(elem[1], cur_node.get(elem[0]))\n",
    "    return cur_node"
   ]
  },
  {
   "cell_type": "markdown",
   "metadata": {},
   "source": [
    "<h1> Получение текста для проверки"
   ]
  },
  {
   "cell_type": "code",
   "execution_count": 5,
   "metadata": {},
   "outputs": [],
   "source": [
    "import nltk\n",
    "from nltk.tokenize import word_tokenize"
   ]
  },
  {
   "cell_type": "code",
   "execution_count": 6,
   "metadata": {},
   "outputs": [],
   "source": [
    "def read_file(filename):\n",
    "    with open(filename, encoding = 'utf-8') as file:\n",
    "        text = file.read()\n",
    "    return text"
   ]
  },
  {
   "cell_type": "code",
   "execution_count": 7,
   "metadata": {},
   "outputs": [],
   "source": [
    "def get_words(text):\n",
    "    words = [t.lower()[::-1] for t in word_tokenize(text) if t.isalpha()]\n",
    "    return words"
   ]
  },
  {
   "cell_type": "code",
   "execution_count": 8,
   "metadata": {},
   "outputs": [],
   "source": [
    "#Пробуем на главе их Хэмингуя, ее текст также в репозитории\n",
    "text = read_file('MissStein.txt')\n",
    "words = get_words(text)\n",
    "tree = {}\n",
    "for w in words[:2]:\n",
    "    add_suffixes(w, tree)"
   ]
  },
  {
   "cell_type": "markdown",
   "metadata": {},
   "source": [
    "<h1>Пробуем создать дерево, превратить туда и обратно"
   ]
  },
  {
   "cell_type": "code",
   "execution_count": 9,
   "metadata": {},
   "outputs": [
    {
     "data": {
      "text/plain": [
       "[['$', None],\n",
       " ['м', [['$', None]]],\n",
       " ['и', [['м', [['$', None]]]]],\n",
       " ['с',\n",
       "  [['и', [['м', [['$', None]]]]],\n",
       "   ['с', [['и', [['м', [['$', None]]]]]]],\n",
       "   ['$', None]]],\n",
       " ['т', [['с', [['$', None]]]]],\n",
       " ['а', [['т', [['с', [['$', None]]]]]]],\n",
       " ['й', [['а', [['т', [['с', [['$', None]]]]]]]]],\n",
       " ['н', [['й', [['а', [['т', [['с', [['$', None]]]]]]]]]]]]"
      ]
     },
     "execution_count": 9,
     "metadata": {},
     "output_type": "execute_result"
    }
   ],
   "source": [
    "l = dict_to_list(tree, cur_list = [])\n",
    "l"
   ]
  },
  {
   "cell_type": "code",
   "execution_count": 10,
   "metadata": {},
   "outputs": [
    {
     "data": {
      "text/plain": [
       "{'$': {},\n",
       " 'м': {'$': {}},\n",
       " 'и': {'м': {'$': {}}},\n",
       " 'с': {'и': {'м': {'$': {}}}, 'с': {'и': {'м': {'$': {}}}}, '$': {}},\n",
       " 'т': {'с': {'$': {}}},\n",
       " 'а': {'т': {'с': {'$': {}}}},\n",
       " 'й': {'а': {'т': {'с': {'$': {}}}}},\n",
       " 'н': {'й': {'а': {'т': {'с': {'$': {}}}}}}}"
      ]
     },
     "execution_count": 10,
     "metadata": {},
     "output_type": "execute_result"
    }
   ],
   "source": [
    "d = list_to_dict(l, cur_node = {})\n",
    "d"
   ]
  }
 ],
 "metadata": {
  "kernelspec": {
   "display_name": "Python 3",
   "language": "python",
   "name": "python3"
  },
  "language_info": {
   "codemirror_mode": {
    "name": "ipython",
    "version": 3
   },
   "file_extension": ".py",
   "mimetype": "text/x-python",
   "name": "python",
   "nbconvert_exporter": "python",
   "pygments_lexer": "ipython3",
   "version": "3.7.4"
  }
 },
 "nbformat": 4,
 "nbformat_minor": 4
}
